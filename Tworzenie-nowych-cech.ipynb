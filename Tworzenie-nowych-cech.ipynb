{
 "cells": [
  {
   "cell_type": "code",
   "execution_count": 9,
   "metadata": {},
   "outputs": [],
   "source": [
    "import numpy as np\n",
    "from sklearn import datasets\n",
    "from sklearn.model_selection import train_test_split\n",
    "from sklearn.metrics import mean_squared_error"
   ]
  },
  {
   "cell_type": "code",
   "execution_count": 10,
   "metadata": {},
   "outputs": [],
   "source": [
    "cali = datasets.california_housing.fetch_california_housing()"
   ]
  },
  {
   "cell_type": "code",
   "execution_count": 11,
   "metadata": {},
   "outputs": [
    {
     "name": "stderr",
     "output_type": "stream",
     "text": [
      "/usr/local/lib/python3.5/dist-packages/sklearn/model_selection/_split.py:2026: FutureWarning: From version 0.21, test_size will always complement train_size unless both are specified.\n",
      "  FutureWarning)\n"
     ]
    }
   ],
   "source": [
    "X = cali['data']\n",
    "y = cali['target']\n",
    "X_train, X_test, y_train, y_test = train_test_split(X, y, train_size=0.8)"
   ]
  },
  {
   "cell_type": "code",
   "execution_count": 12,
   "metadata": {},
   "outputs": [
    {
     "name": "stdout",
     "output_type": "stream",
     "text": [
      "MAE = 1.1254756820615757\n"
     ]
    }
   ],
   "source": [
    "from sklearn.neighbors import KNeighborsRegressor\n",
    "regresor = KNeighborsRegressor()\n",
    "regresor.fit(X_train, y_train)\n",
    "y_est = regresor.predict(X_test)\n",
    "print(\"MAE =\", mean_squared_error(y_test, y_est))"
   ]
  },
  {
   "cell_type": "markdown",
   "metadata": {},
   "source": [
    "Metoda Zscore standaryzacja \n",
    "Celem metody jest taka zmiana rozkładu danych, żeby otrzymać rozkład o średniej równej 0 i ochyleniu standardowym\n",
    "równym 1. Po standaryzacji wartości mniejszcze od średniej będą miały wartość ujemną, a wartość większe od\n",
    "średniej - dodatnią. Z reguły ustandaryzowane wartości należą do przedziału od -4 do 4.\n",
    "ustandaryzowana wartość jest obliczana ze wzoru $z = \\frac{x - \\bar{x}}{\\alpha}$\n",
    "gdzie $\\bar{x}$ oznacza średnią arytmetyczną, a $\\alpha$ - odchylenie standardowe zmennej x.\n",
    "\n",
    "Ta metoda również zachowuje oryginalny rozkład danych i jest przydatna, gdy nie znamy ich zakresu, czyli gdy podejrzewamy, że próba może mieć inny zakres niż cała populacja."
   ]
  },
  {
   "cell_type": "code",
   "execution_count": 13,
   "metadata": {},
   "outputs": [
    {
     "name": "stdout",
     "output_type": "stream",
     "text": [
      "MAE = 0.41517938594693504\n"
     ]
    }
   ],
   "source": [
    "from sklearn.preprocessing import StandardScaler\n",
    "scaler = StandardScaler()\n",
    "X_train_scaled = scaler.fit_transform(X_train)\n",
    "X_test_scaled = scaler.transform(X_test)\n",
    "\n",
    "regresor.fit(X_train_scaled, y_train)\n",
    "y_est = regresor.predict(X_test_scaled)\n",
    "print(\"MAE =\", mean_squared_error(y_test, y_est))"
   ]
  },
  {
   "cell_type": "markdown",
   "metadata": {},
   "source": [
    "IQR -> Inter-Quantile Range - metoda wykożystuje medianę oraz pierwszy i czwarty kwartyl do przeskalowania.\n",
    "Dzięku temu jest bardziej odporna na wartości odstające. "
   ]
  },
  {
   "cell_type": "code",
   "execution_count": 15,
   "metadata": {},
   "outputs": [
    {
     "name": "stdout",
     "output_type": "stream",
     "text": [
      "MAE = 0.4136447738236434\n"
     ]
    }
   ],
   "source": [
    "from sklearn.preprocessing import RobustScaler\n",
    "scaler2 = RobustScaler()\n",
    "\n",
    "X_train_scaled = scaler2.fit_transform(X_train)\n",
    "X_test_scaled = scaler2.transform(X_test)\n",
    "regresor = KNeighborsRegressor()\n",
    "regresor.fit(X_train_scaled, y_train)\n",
    "y_est = regresor.predict(X_test_scaled)\n",
    "print(\"MAE =\", mean_squared_error(y_test, y_est))"
   ]
  },
  {
   "cell_type": "markdown",
   "metadata": {},
   "source": [
    "Nieliniowa transformacja cehy"
   ]
  },
  {
   "cell_type": "code",
   "execution_count": 21,
   "metadata": {},
   "outputs": [
    {
     "name": "stdout",
     "output_type": "stream",
     "text": [
      "MAE = 0.3443065273196066\n"
     ]
    }
   ],
   "source": [
    "non_linear_feat = 5 # liczba mieszkańców\n",
    "X_train_new_feat = np.sqrt(X_train[:, non_linear_feat])\n",
    "X_train_new_feat.shape = (X_train_new_feat.shape[0], 1)\n",
    "X_train_extended = np.hstack([X_train, X_train_new_feat])\n",
    "X_test_new_feat = np.sqrt(X_test[:,non_linear_feat])\n",
    "X_test_new_feat.shape = (X_test_new_feat.shape[0],1)\n",
    "X_test_extended = np.hstack([X_test,X_test_new_feat])\n",
    "scaler = StandardScaler()\n",
    "X_train_extended_scaled = scaler.fit_transform(X_train_extended)\n",
    "X_test_extended_scaled = scaler.transform(X_test_extended)\n",
    "regresor = KNeighborsRegressor()\n",
    "regresor.fit(X_train_extended_scaled, y_train)\n",
    "y_est = regresor.predict(X_test_extended_scaled)\n",
    "print(\"MAE =\", mean_squared_error(y_test, y_est))"
   ]
  }
 ],
 "metadata": {
  "kernelspec": {
   "display_name": "Python 3",
   "language": "python",
   "name": "python3"
  },
  "language_info": {
   "codemirror_mode": {
    "name": "ipython",
    "version": 3
   },
   "file_extension": ".py",
   "mimetype": "text/x-python",
   "name": "python",
   "nbconvert_exporter": "python",
   "pygments_lexer": "ipython3",
   "version": "3.5.2"
  }
 },
 "nbformat": 4,
 "nbformat_minor": 2
}
